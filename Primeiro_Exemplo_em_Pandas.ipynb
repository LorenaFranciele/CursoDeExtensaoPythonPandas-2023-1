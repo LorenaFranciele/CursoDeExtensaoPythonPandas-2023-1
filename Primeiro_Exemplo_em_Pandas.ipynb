{
  "nbformat": 4,
  "nbformat_minor": 0,
  "metadata": {
    "colab": {
      "provenance": [],
      "authorship_tag": "ABX9TyN0fWlseU0IUIdbzJg95GbK",
      "include_colab_link": true
    },
    "kernelspec": {
      "name": "python3",
      "display_name": "Python 3"
    },
    "language_info": {
      "name": "python"
    }
  },
  "cells": [
    {
      "cell_type": "markdown",
      "metadata": {
        "id": "view-in-github",
        "colab_type": "text"
      },
      "source": [
        "<a href=\"https://colab.research.google.com/github/LorenaFranciele/CursoDeExtensaoPythonPandas-2023-1/blob/main/Primeiro_Exemplo_em_Pandas.ipynb\" target=\"_parent\"><img src=\"https://colab.research.google.com/assets/colab-badge.svg\" alt=\"Open In Colab\"/></a>"
      ]
    },
    {
      "cell_type": "markdown",
      "source": [
        "**Primeiro exemplo de manipulação de dados usando Python Pandas**\n",
        "\n",
        "Autora: Lorena Franciele\n",
        "\n",
        "Data: 6 de Fevereiro de 2023"
      ],
      "metadata": {
        "id": "dXPNkQdYUdEf"
      }
    },
    {
      "cell_type": "code",
      "source": [
        "# Para instalar use esse comando!\n",
        "# !pip install pandas"
      ],
      "metadata": {
        "id": "8Sh28Vez7_j1"
      },
      "execution_count": null,
      "outputs": []
    },
    {
      "cell_type": "code",
      "execution_count": 1,
      "metadata": {
        "id": "Opza-KI8Cgkv"
      },
      "outputs": [],
      "source": [
        "#Importando bibliteca pandas no Python\n",
        "import pandas as pd\n",
        "\n",
        "combustiveis_df = pd.read_excel(\"ca-2021-02.xlsx\")"
      ]
    },
    {
      "cell_type": "code",
      "source": [
        "# Exibe as primeiras 5 linhas \n",
        "display(combustiveis_df)"
      ],
      "metadata": {
        "id": "mdxxcjjrA6tx"
      },
      "execution_count": null,
      "outputs": []
    },
    {
      "cell_type": "code",
      "source": [
        "# Quero na verdade, exibir as primeiras 15 linhas\n",
        "display(combustiveis_df.head(15))"
      ],
      "metadata": {
        "id": "0VAQUD4PFvr8"
      },
      "execution_count": null,
      "outputs": []
    },
    {
      "cell_type": "code",
      "source": [
        "# Comandos Datframe.shape e Dataframe.describe()\n",
        "print(combustiveis_df.shape)\n",
        "# Mostra o número de linhas e colunas  (linhas, colunas)\n",
        "# Só as linhas \n",
        "print(combustiveis_df.shape[0])\n",
        "# Só as colunas\n",
        "print(combustiveis_df.shape[1])\n"
      ],
      "metadata": {
        "id": "3v2tad4hHSCh"
      },
      "execution_count": null,
      "outputs": []
    },
    {
      "cell_type": "code",
      "source": [
        "# Quais são as colunas e que tipo de dados elas possuem \n",
        "print(combustiveis_df.info())"
      ],
      "metadata": {
        "id": "DwlTouWPKRRx"
      },
      "execution_count": null,
      "outputs": []
    },
    {
      "cell_type": "code",
      "source": [
        "# describe() mostra as estatísticas \"mais básicas\" que precisamos \n",
        "print(combustiveis_df.describe())"
      ],
      "metadata": {
        "id": "PhPtho7OJJ1E"
      },
      "execution_count": null,
      "outputs": []
    },
    {
      "cell_type": "code",
      "source": [
        "# Filtrar apenas por uma coluna\n",
        "display(combustiveis_df['Revenda']) "
      ],
      "metadata": {
        "id": "rOv-l68OYVlh"
      },
      "execution_count": null,
      "outputs": []
    },
    {
      "cell_type": "code",
      "source": [
        "# Aqui criamos um novo Data Frame apenas com as colunas que desejamos \n",
        "ca_df = combustiveis_df[['Revenda','Municipio','Produto','Valor de Venda']]\n",
        "display(ca_df)"
      ],
      "metadata": {
        "id": "zFozZhzMZXEh"
      },
      "execution_count": null,
      "outputs": []
    },
    {
      "cell_type": "code",
      "source": [
        "# Exibe a 4a linha\n",
        "display(ca_df.loc[3])"
      ],
      "metadata": {
        "id": "wDSXCk1qba2J"
      },
      "execution_count": null,
      "outputs": []
    },
    {
      "cell_type": "code",
      "source": [
        "# Exibir da 10a linha até a 20a linha\n",
        "display(ca_df.loc[9:19])"
      ],
      "metadata": {
        "id": "-YlEJNeodTW4"
      },
      "execution_count": null,
      "outputs": []
    },
    {
      "cell_type": "code",
      "source": [
        "# Criar uma dataframe gas_df contendo apenas as 4 colunas (Revenda, Municipio ,Produto, Valor de Venda)\n",
        "# Somente com combustível sendo GASOLINA e exibir na tela\n",
        "gas_df = ca_df.loc[ca_df['Produto'] == 'GASOLINA']\n",
        "display(gas_df)\n",
        "\n",
        "display(gas_df['Valor de Venda'].max())"
      ],
      "metadata": {
        "id": "JU7WNXAneSTY"
      },
      "execution_count": null,
      "outputs": []
    },
    {
      "cell_type": "code",
      "source": [
        "# Exibir qual é o posto e município da gasolina mais cara do país\n",
        "display(gas_df[['Revenda', 'Municipio', 'Valor de Venda']].max())"
      ],
      "metadata": {
        "id": "GmHbrfathQLF"
      },
      "execution_count": null,
      "outputs": []
    },
    {
      "cell_type": "code",
      "source": [
        "# DataFrame.loc[] com múltiplas condições para filtragem\n",
        "# Quais são os preços, poços que vendem ETANOL na minha cidade (INDAIATUBA) \n",
        "# Ordenado do menor preço para o maior\n",
        "etanol_indaiatuba_df = ca_df.loc[(ca_df['Produto'] == 'ETANOL') & (ca_df['Municipio'] == 'INDAIATUBA')]\n",
        "etanol_indaiatuba_df.sort_values(by='Valor de Venda', inplace=True)\n",
        "display(etanol_indaiatuba_df)"
      ],
      "metadata": {
        "id": "mXldn9VgGXqj"
      },
      "execution_count": null,
      "outputs": []
    },
    {
      "cell_type": "code",
      "source": [
        "# Qual a média de preços dos combustiveis GASOLINA e GASOLINA ADITIVADA do Bairro MOOCA em SÃO PAULO\n",
        "display(combustiveis_df.loc[(combustiveis_df['Bairro'] == 'MOOCA') & (combustiveis_df['Municipio'] == 'SAO PAULO') & \n",
        "                            ((combustiveis_df['Produto'] == 'GASOLINA') | (combustiveis_df['Produto'] == 'GASOLINA ADITIVADA')), \n",
        "                            ['Valor de Venda']].mean())\n"
      ],
      "metadata": {
        "id": "klNCYHLRM6te"
      },
      "execution_count": null,
      "outputs": []
    },
    {
      "cell_type": "code",
      "source": [
        "# Qual a média de preços dos combustíveis GASOLINA e GASOLINA ADITIVADA do Bairro MOOCA em SÃO PAULO?\n",
        "display(combustiveis_df.loc[(combustiveis_df['Bairro'] == 'MOOCA') & \n",
        "                            (combustiveis_df['Municipio'] == 'SAO PAULO') & \n",
        "                            (combustiveis_df['Produto'].isin([\"GASOLINA\", \"GASOLINA ADITIVADA\"])), \n",
        "                            ['Valor de Venda']].mean())"
      ],
      "metadata": {
        "id": "6aTZK6nxS90k"
      },
      "execution_count": null,
      "outputs": []
    },
    {
      "cell_type": "code",
      "source": [
        "# Como mostrar média de valor de venda POR COMBUSTÍVEL? No Brasil todo\n",
        "media_por_combustivel_df = ca_df[['Produto', 'Valor de Venda']].groupby(by='Produto').mean().round(2)\n",
        "display(media_por_combustivel_df)"
      ],
      "metadata": {
        "id": "_-TORC5OeztX"
      },
      "execution_count": null,
      "outputs": []
    },
    {
      "cell_type": "code",
      "source": [
        "# Quero adicionar uma coluna de valor booleano no combustiveis_df chamada \"Ativo\"\n",
        "# Que, por padrão, vai ser True para TODAS as linhas\n",
        "combustiveis_df['Ativo'] = True\n",
        "print(combustiveis_df.info())\n",
        "display(combustiveis_df.head())"
      ],
      "metadata": {
        "id": "iOt7pgJGjpN8"
      },
      "execution_count": null,
      "outputs": []
    },
    {
      "cell_type": "code",
      "source": [
        "# E se eu quiser uma coluna nova chamada 'Obs' que preencha automaticamente \"MELHOR CIDADE\", quando o Município for Indaiatuba, SP.\n",
        "#combustiveis_df['Obs'] = \"MELHOR CIDADE\" if combustiveis_df['Municipio'] == \"Indaiatuba\" else \"\""
      ],
      "metadata": {
        "id": "NNm__vHZl6MY"
      },
      "execution_count": 50,
      "outputs": []
    },
    {
      "cell_type": "code",
      "source": [
        "# Exportar para Excel o dataframe com etanol em Indaiatuba..\n",
        "etanol_indaiatuba_df.to_excel('etanol_indaiatuba.xlsx', sheet_name='Etanol em Indaiatuba')"
      ],
      "metadata": {
        "id": "cELQhyPdnhy2"
      },
      "execution_count": 53,
      "outputs": []
    }
  ]
}