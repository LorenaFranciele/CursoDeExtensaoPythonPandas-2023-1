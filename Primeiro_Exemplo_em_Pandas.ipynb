{
  "nbformat": 4,
  "nbformat_minor": 0,
  "metadata": {
    "colab": {
      "provenance": [],
      "authorship_tag": "ABX9TyN0ETi7vGyHi52/SjuEW8/H",
      "include_colab_link": true
    },
    "kernelspec": {
      "name": "python3",
      "display_name": "Python 3"
    },
    "language_info": {
      "name": "python"
    }
  },
  "cells": [
    {
      "cell_type": "markdown",
      "metadata": {
        "id": "view-in-github",
        "colab_type": "text"
      },
      "source": [
        "<a href=\"https://colab.research.google.com/github/LorenaFranciele/CursoDeExtensaoPythonPandas-2023-1/blob/main/Primeiro_Exemplo_em_Pandas.ipynb\" target=\"_parent\"><img src=\"https://colab.research.google.com/assets/colab-badge.svg\" alt=\"Open In Colab\"/></a>"
      ]
    },
    {
      "cell_type": "markdown",
      "source": [
        "**Primeiro exemplo de manipulação de dados usando Python Pandas**\n",
        "\n",
        "Autora: Lorena Franciele\n",
        "\n",
        "Data: 6 de Fevereiro de 2023"
      ],
      "metadata": {
        "id": "dXPNkQdYUdEf"
      }
    },
    {
      "cell_type": "code",
      "source": [
        "# Para instalar use esse comando!\n",
        "# !pip install pandas"
      ],
      "metadata": {
        "id": "8Sh28Vez7_j1"
      },
      "execution_count": null,
      "outputs": []
    },
    {
      "cell_type": "code",
      "execution_count": 1,
      "metadata": {
        "id": "Opza-KI8Cgkv"
      },
      "outputs": [],
      "source": [
        "#Importando bibliteca pandas no Python\n",
        "import pandas as pd\n",
        "\n",
        "combustiveis_df = pd.read_excel(\"ca-2021-02.xlsx\")"
      ]
    },
    {
      "cell_type": "code",
      "source": [
        "# Exibe as primeiras 5 linhas \n",
        "display(combustiveis_df)"
      ],
      "metadata": {
        "id": "mdxxcjjrA6tx"
      },
      "execution_count": null,
      "outputs": []
    },
    {
      "cell_type": "code",
      "source": [
        "# Quero na verdade, exibir as primeiras 15 linhas\n",
        "display(combustiveis_df.head(15))"
      ],
      "metadata": {
        "id": "0VAQUD4PFvr8"
      },
      "execution_count": null,
      "outputs": []
    },
    {
      "cell_type": "code",
      "source": [
        "# Comandos Datframe.shape e Dataframe.describe()\n",
        "print(combustiveis_df.shape)\n",
        "# Mostra o número de linhas e colunas  (linhas, colunas)\n",
        "# Só as linhas \n",
        "print(combustiveis_df.shape[0])\n",
        "# Só as colunas\n",
        "print(combustiveis_df.shape[1])\n"
      ],
      "metadata": {
        "id": "3v2tad4hHSCh"
      },
      "execution_count": null,
      "outputs": []
    },
    {
      "cell_type": "code",
      "source": [
        "# Quais são as colunas e que tipo de dados elas possuem \n",
        "print(combustiveis_df.info())"
      ],
      "metadata": {
        "colab": {
          "base_uri": "https://localhost:8080/"
        },
        "id": "DwlTouWPKRRx",
        "outputId": "bc013a52-0737-41b2-ff98-894866ea5b59"
      },
      "execution_count": 20,
      "outputs": [
        {
          "output_type": "stream",
          "name": "stdout",
          "text": [
            "<class 'pandas.core.frame.DataFrame'>\n",
            "RangeIndex: 168409 entries, 0 to 168408\n",
            "Data columns (total 16 columns):\n",
            " #   Column             Non-Null Count   Dtype         \n",
            "---  ------             --------------   -----         \n",
            " 0   Regiao - Sigla     168409 non-null  object        \n",
            " 1   Estado - Sigla     168409 non-null  object        \n",
            " 2   Municipio          168409 non-null  object        \n",
            " 3   Revenda            168409 non-null  object        \n",
            " 4   CNPJ da Revenda    168409 non-null  object        \n",
            " 5   Nome da Rua        168409 non-null  object        \n",
            " 6   Numero Rua         168353 non-null  object        \n",
            " 7   Complemento        35057 non-null   object        \n",
            " 8   Bairro             168043 non-null  object        \n",
            " 9   Cep                168409 non-null  object        \n",
            " 10  Produto            168409 non-null  object        \n",
            " 11  Data da Coleta     168409 non-null  datetime64[ns]\n",
            " 12  Valor de Venda     168409 non-null  float64       \n",
            " 13  Valor de Compra    0 non-null       float64       \n",
            " 14  Unidade de Medida  168409 non-null  object        \n",
            " 15  Bandeira           168409 non-null  object        \n",
            "dtypes: datetime64[ns](1), float64(2), object(13)\n",
            "memory usage: 20.6+ MB\n",
            "None\n"
          ]
        }
      ]
    },
    {
      "cell_type": "code",
      "source": [
        "# describe() mostra as estatísticas \"mais básicas\" que precisamos \n",
        "print(combustiveis_df.describe())"
      ],
      "metadata": {
        "id": "PhPtho7OJJ1E"
      },
      "execution_count": null,
      "outputs": []
    },
    {
      "cell_type": "code",
      "source": [
        "# Filtrar apenas por uma coluna\n",
        "display(combustiveis_df['Revenda']) "
      ],
      "metadata": {
        "id": "rOv-l68OYVlh"
      },
      "execution_count": null,
      "outputs": []
    },
    {
      "cell_type": "code",
      "source": [
        "# Aqui criamos um novo Data Frame apenas com as colunas que desejamos \n",
        "ca_df = combustiveis_df[['Revenda','Municipio','Produto','Valor de Venda']]\n",
        "display(ca_df)"
      ],
      "metadata": {
        "id": "zFozZhzMZXEh"
      },
      "execution_count": null,
      "outputs": []
    },
    {
      "cell_type": "code",
      "source": [
        "# Exibe a 4a linha\n",
        "display(ca_df.loc[3])"
      ],
      "metadata": {
        "id": "wDSXCk1qba2J"
      },
      "execution_count": null,
      "outputs": []
    },
    {
      "cell_type": "code",
      "source": [
        "# Exibir da 10a linha até a 20a linha\n",
        "display(ca_df.loc[9:19])"
      ],
      "metadata": {
        "id": "-YlEJNeodTW4"
      },
      "execution_count": null,
      "outputs": []
    },
    {
      "cell_type": "code",
      "source": [
        "# Criar uma dataframe gas_df contendo apenas as 4 colunas (Revenda, Municipio ,Produto, Valor de Venda)\n",
        "# Somente com combustível sendo GASOLINA e exibir na tela\n",
        "gas_df = ca_df.loc[ca_df['Produto'] == 'GASOLINA']\n",
        "display(gas_df)\n",
        "\n",
        "display(gas_df['Valor de Venda'].max())"
      ],
      "metadata": {
        "id": "JU7WNXAneSTY"
      },
      "execution_count": null,
      "outputs": []
    },
    {
      "cell_type": "code",
      "source": [
        "#Exibirqual é o posto e município da gasolina mais cara do país\n",
        "display(gas_df[['Revenda', 'Municipio', 'Valor de Venda']].max())"
      ],
      "metadata": {
        "id": "GmHbrfathQLF"
      },
      "execution_count": null,
      "outputs": []
    }
  ]
}